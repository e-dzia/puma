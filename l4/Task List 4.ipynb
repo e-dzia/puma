{
 "cells": [
  {
   "cell_type": "markdown",
   "metadata": {},
   "source": [
    "### 2018/2019 - Task List 4\n",
    "\n",
    "[Book](https://raw.githubusercontent.com/jonesgithub/book-1/master/ML%20Machine%20Learning-A%20Probabilistic%20Perspective.pdf)\n",
    "\n",
    "[A priori](https://en.wikipedia.org/wiki/A_priori_probability)\n",
    "\n",
    "[Likelihood](https://en.wikipedia.org/wiki/Likelihood_function)\n",
    "\n",
    "[Posteriori](https://en.wikipedia.org/wiki/Posterior_distribution)\n",
    "\n",
    "[Conjugate prior](https://en.wikipedia.org/wiki/Conjugate_prior)\n",
    "\n",
    "Pyro\n",
    "[Conditioning](http://pyro.ai/examples/intro_part_ii.html#Conditioning)\n",
    "\n",
    "Pyro [SVI](http://pyro.ai/examples/svi_part_i.html#Setup)\n",
    "\n",
    "1.  Select one attriubte from one of the datasets (Task List 3), that has distribution similar to Normal (or any known to you distribution)\n",
    "2.  Asume that you have some prior knowledge about parameters of that distribution\n",
    "3.  Create model, and apropriate guid function\n",
    "4. Learn parameter of your distribution, assume that you know STD or mean"
   ]
  },
  {
   "cell_type": "markdown",
   "metadata": {},
   "source": [
    "## Required imports"
   ]
  },
  {
   "cell_type": "code",
   "execution_count": 5,
   "metadata": {},
   "outputs": [],
   "source": [
    "%matplotlib inline\n",
    "import pyro\n",
    "import torch\n",
    "import numpy as np\n",
    "import matplotlib.pyplot as plt\n",
    "import pyro.optim as optim\n",
    "import pyro.distributions as dist\n",
    "from pyro.optim import Adam\n",
    "from torch.distributions import constraints\n",
    "from tqdm import tqdm\n",
    "from matplotlib import animation, rc\n",
    "from IPython.display import HTML\n",
    "\n",
    "import pandas as pd"
   ]
  },
  {
   "cell_type": "markdown",
   "metadata": {},
   "source": [
    "#  Example of SVI"
   ]
  },
  {
   "cell_type": "markdown",
   "metadata": {},
   "source": [
    "Generate some sample data of weight measurments"
   ]
  },
  {
   "cell_type": "code",
   "execution_count": 416,
   "metadata": {},
   "outputs": [],
   "source": [
    "mean, var = 100, 10\n",
    "with pyro.plate(\"generator\", 1000) as _:\n",
    "    data = pyro.sample('data', pyro.distributions.Normal(mean, var))\n",
    "    \n",
    "prior_mean=80\n"
   ]
  },
  {
   "cell_type": "code",
   "execution_count": 417,
   "metadata": {},
   "outputs": [
    {
     "data": {
      "text/plain": [
       "tensor([105.0914, 116.1406, 104.3839, 106.8700, 104.5003, 125.1590,  95.2050,\n",
       "         88.6723,  94.0512, 106.8381, 100.6561, 103.1847,  99.4775, 101.4996,\n",
       "        107.5299,  98.9761,  83.6353,  94.2215, 107.0887,  95.5333,  96.4519,\n",
       "         95.6250, 107.0740, 108.0457,  94.1864,  79.0377,  93.1574, 106.2431,\n",
       "        103.3428, 119.6000,  91.2574,  94.0433,  80.5369, 107.9583,  94.9623,\n",
       "         93.1119, 110.0953, 107.0167, 105.7623, 107.7657,  93.4513,  94.4057,\n",
       "         89.5352,  85.7005,  94.5667,  92.0738,  97.7790, 100.5215, 102.1155,\n",
       "        123.7022,  85.7777, 123.5495,  96.6412,  80.1494,  92.1306, 102.9802,\n",
       "        110.2038,  99.8809, 105.4740,  87.1863, 111.9938,  98.7590, 108.3944,\n",
       "         99.8775, 102.0730, 100.8921,  98.7211,  99.5903,  84.4573,  95.9884,\n",
       "         96.8109,  82.3664,  90.0895,  95.1655, 108.6836,  87.9817,  93.4795,\n",
       "         96.1532, 102.3716,  86.7276,  89.3727, 110.3372,  86.9825, 105.1296,\n",
       "         82.8083,  98.5717, 109.0525, 102.3673,  91.2415, 110.7933, 120.7190,\n",
       "         76.5895,  92.7098,  97.7068, 107.3756,  82.6048, 118.5631,  86.9675,\n",
       "        111.3430, 100.2473,  98.7192, 119.4778, 104.4275,  98.5542,  98.3955,\n",
       "        108.8283,  99.1265,  97.2857,  97.8414,  94.6562, 114.6308,  94.2905,\n",
       "        101.3739,  95.6112,  81.7117,  95.4353,  90.3711, 102.8692, 104.9752,\n",
       "         93.1778, 107.3045, 106.5077, 105.2916,  91.0471, 105.4845,  91.7350,\n",
       "         97.4096,  91.3575,  95.7562, 102.2904, 107.8238, 100.1711,  87.7621,\n",
       "        107.0413, 111.8213, 103.7581,  84.4403,  94.1184, 117.3274,  98.3575,\n",
       "         99.5353,  95.0875,  96.6425, 125.8646,  87.9092, 107.9592, 105.3504,\n",
       "         99.9592,  82.8323, 109.9673,  95.5872, 120.2042,  88.9323, 103.2645,\n",
       "         90.9934, 105.7216, 107.3157, 101.0900,  85.3999,  89.4799,  94.1320,\n",
       "         92.3280,  95.3174, 108.5277,  95.3790,  87.7493,  89.8805,  97.1471,\n",
       "         99.7600,  91.9009,  96.7575,  79.3541, 103.9025,  84.5414, 121.9582,\n",
       "         77.5718, 115.3446,  88.7410,  79.7260,  85.4661,  96.4508, 100.7582,\n",
       "        110.1447,  91.6660,  82.1986, 114.0049, 109.2092, 102.5858,  84.9088,\n",
       "        111.4246,  92.2926, 103.2536, 111.7038,  99.6673, 103.1605,  83.6873,\n",
       "        116.9035,  79.5107,  97.2216, 103.4783,  90.7834,  86.7871, 105.2795,\n",
       "        106.8646,  99.5682,  93.8247,  80.3014,  85.8346,  98.5342,  87.0477,\n",
       "        132.7413,  90.1310,  97.8017,  97.7268, 103.7944,  86.7672, 106.9135,\n",
       "        106.1124, 113.8397, 102.8423, 102.7401, 102.2011,  96.5570, 109.2541,\n",
       "         75.4510, 107.7949, 100.5092, 100.5540,  95.0786, 111.3088, 111.7581,\n",
       "         91.2492, 121.4520, 101.8914,  91.0141, 110.5972, 104.3742,  91.5815,\n",
       "        103.9347, 105.0955,  89.2201, 103.8306, 102.0648,  99.0186, 103.3866,\n",
       "        104.3070, 107.2668, 104.1528,  94.4821,  84.5287, 126.8514, 104.1482,\n",
       "        109.8689,  87.2574, 105.2736, 102.5486, 102.4672, 117.8718, 105.8634,\n",
       "        106.9722,  84.3873,  92.9862,  90.7616,  88.4019, 109.7709,  83.5201,\n",
       "        105.8473,  85.0270,  74.9682,  91.6935,  91.9960, 108.6354, 117.5016,\n",
       "         98.4518,  98.4494, 102.9836,  92.5936,  93.0601,  92.4243, 100.3513,\n",
       "         99.2726, 105.6138, 105.7149, 111.1095,  81.8811,  98.1298, 103.2537,\n",
       "         89.6068,  99.8304,  98.0904, 106.7021,  90.1770,  97.2739, 108.4149,\n",
       "        100.4501,  79.3434, 104.0824,  99.8672,  91.3367, 116.4055,  91.2514,\n",
       "         92.0977,  97.4390, 102.6402, 119.6294,  96.3100,  81.3187, 102.0482,\n",
       "        102.4518,  83.4059,  93.8116, 101.1654,  95.9489, 100.1563,  90.5718,\n",
       "        110.7874,  99.2609,  90.4920, 109.8023,  93.2169,  87.7334, 101.8015,\n",
       "        108.2343,  94.1096, 102.3959, 100.2361, 103.2973, 116.2505, 101.0699,\n",
       "        102.6794,  92.9053, 130.7818,  94.8450,  99.4988, 103.4833, 109.3300,\n",
       "         93.0999,  96.9416,  77.4538,  94.3845,  96.0967, 108.0909,  98.4118,\n",
       "         92.7146,  89.0284, 112.3862, 111.2237,  95.0104,  83.8479,  74.5469,\n",
       "        102.4937,  90.7404, 107.7067,  80.4498, 102.4399, 104.5418,  95.0416,\n",
       "         89.4444,  98.3820,  89.3808,  97.0168, 105.1386, 113.2425,  86.2103,\n",
       "        100.7092, 100.8022, 130.0506,  90.6608, 107.6741,  83.9585, 111.4715,\n",
       "         98.3000, 104.8658, 100.5715,  86.6331,  89.6181,  90.3442, 113.1456,\n",
       "        106.7343,  79.6792, 116.2649, 103.9602, 113.8145, 107.0971, 100.8632,\n",
       "         91.1008,  97.3542,  99.7444,  98.2193,  97.4195,  89.0713,  92.9514,\n",
       "         91.8732, 109.1832, 115.0168, 104.6004, 107.2149,  84.2985,  96.0721,\n",
       "        108.1673, 100.0416, 100.5304,  89.3228, 104.1023,  88.7930, 108.8389,\n",
       "         97.2659, 110.5148, 118.7983, 113.1937,  94.8916,  84.9533, 109.7400,\n",
       "         92.0505,  87.2618,  99.9184, 106.9119, 110.3561, 102.4566, 102.6976,\n",
       "        100.9975,  96.1575, 105.9025,  95.4060, 104.1345,  89.8415, 117.5886,\n",
       "        103.8796,  87.6220,  94.8417,  98.1884,  97.2392, 107.3312,  91.8114,\n",
       "        123.7951, 114.9852, 108.9770, 102.0612, 102.6971,  87.7240, 102.7406,\n",
       "         76.4538,  90.0415, 104.7551,  93.6681,  94.5210, 100.4768, 100.1951,\n",
       "        125.6161,  90.2070,  92.4849, 103.5546,  90.9115,  95.9203, 104.0318,\n",
       "        104.0878, 101.4350,  93.7584,  98.0681,  91.0002, 111.4619, 108.8081,\n",
       "         90.0072,  88.6870,  91.0619,  88.6570,  80.6439, 105.3796,  85.1725,\n",
       "         89.4664, 110.5576,  75.3544,  99.8050, 114.0112,  91.4596,  87.4053,\n",
       "         96.5542, 107.9011, 111.2505, 102.7602,  85.9847, 106.9263, 108.3264,\n",
       "        114.9804, 113.5761,  95.3014, 109.2566,  99.2590,  88.2606,  98.7687,\n",
       "         92.4742,  95.3083, 101.4830, 109.2986, 101.4542,  95.0464,  93.6792,\n",
       "        106.2535,  76.6606,  98.4974, 105.0309, 103.7998,  98.1732,  96.9944,\n",
       "         96.2301, 105.1854,  90.5065,  99.1718,  89.3743,  91.4892, 110.5381,\n",
       "        102.8081, 106.3618,  89.2482,  88.6898,  94.2180,  95.9135,  97.0934,\n",
       "        119.6132,  87.7411, 108.1429,  96.8726,  97.5240, 102.9588, 110.4942,\n",
       "         91.2063, 112.7133, 103.3303,  95.1382,  89.0210,  95.3530, 112.1463,\n",
       "         82.9474, 108.7007,  97.5815, 101.0077, 104.5314, 109.8873, 102.3019,\n",
       "         88.0927, 106.1727,  92.2901, 108.7702,  92.8341,  99.5406,  86.0272,\n",
       "        101.9563, 102.2589,  98.8198,  93.4918,  95.5031,  82.4879,  99.6778,\n",
       "        101.2842,  89.1569,  92.7675,  99.2051, 109.0364,  91.9327, 101.3751,\n",
       "        110.9834,  97.3201,  88.8353,  89.4253, 101.3394,  89.2583, 102.4131,\n",
       "        101.1688, 100.4742, 103.6745, 102.8982,  96.8500,  88.5995,  90.4121,\n",
       "        105.4169,  71.1980, 101.0124,  92.5532,  96.2717, 100.6091,  80.9975,\n",
       "        112.1973, 109.2011,  91.6092,  93.5932,  89.0896, 110.1720, 121.8178,\n",
       "        105.8703,  95.9495,  88.2614,  82.7699, 122.7949,  95.0674,  94.7550,\n",
       "         97.8547,  76.0416,  98.2608,  90.7800,  92.7300,  89.6761,  91.2874,\n",
       "        100.9853, 113.5512, 101.8659, 102.1650,  97.2598,  99.5519,  99.9528,\n",
       "        104.9253, 123.9721,  98.6984,  96.9015, 100.5066,  82.1010,  93.7403,\n",
       "         87.9511, 104.0410, 121.1834,  97.2938, 114.0858, 108.4098,  88.7265,\n",
       "         90.1181, 105.6507,  86.0099,  97.2161,  84.5873, 108.6150,  94.1590,\n",
       "         90.3916,  91.7792,  97.0387,  97.4723,  96.4137, 131.0310,  90.9074,\n",
       "         97.9263, 112.4148, 105.5143,  90.4345, 106.8548, 111.7612,  99.1872,\n",
       "        109.5104, 100.4847,  90.5387, 105.0184,  90.0851, 139.4232, 105.1275,\n",
       "        119.4224, 115.0767, 112.8992, 104.6528, 108.6302,  95.6329,  92.9997,\n",
       "        105.1090, 109.1875, 110.3392,  90.4962, 105.8125,  99.7033, 110.6297,\n",
       "         83.8539, 102.2977,  97.3575, 114.8209, 103.1941,  93.0517, 104.6745,\n",
       "        105.9377, 109.1272,  91.7834, 114.8364,  93.3249, 102.8245,  88.7945,\n",
       "        103.1607, 101.6858,  95.3255, 114.3296, 102.3445, 103.6198, 103.1318,\n",
       "        108.4300,  85.9039,  96.0857, 103.2953,  90.9007, 100.8165, 102.4204,\n",
       "         88.0251, 109.8475,  90.0319, 110.5890,  99.7389,  99.5978, 102.9956,\n",
       "         92.6723, 112.7955, 101.9250, 101.2096, 110.7233, 104.4269, 100.2812,\n",
       "        103.8813,  89.1627, 110.5793, 104.0544,  94.1260,  96.8513, 112.4694,\n",
       "        101.1575,  93.6785, 105.2867, 119.0266, 101.5214, 101.2567, 110.7314,\n",
       "        103.3721,  91.1696, 106.8926, 122.6268,  89.3546, 107.1471, 118.7327,\n",
       "        106.5703,  95.0936,  98.5281,  82.7119,  88.3514, 113.3657,  92.2413,\n",
       "         84.4840,  89.8570, 101.3835, 116.9028,  94.7917,  91.7557, 112.1983,\n",
       "         89.2953,  92.3602,  91.0290, 118.3361, 103.1627, 105.3467,  89.1436,\n",
       "         99.6323, 108.8056,  84.1286,  92.4540,  91.5262, 114.3800,  81.6191,\n",
       "         87.2492,  99.4341, 101.8329,  91.0062, 107.5546,  90.0339,  98.5113,\n",
       "         94.8112,  96.6606,  97.5351,  87.8205, 116.6425, 106.3407, 108.2787,\n",
       "        103.2518, 110.7746,  93.7037,  89.6308,  92.0151, 106.6434,  82.0897,\n",
       "        102.6084,  92.6227, 106.9606,  94.0966, 114.4735,  92.7196,  85.9234,\n",
       "         92.9081,  87.5403, 108.6187, 104.7627,  99.6685,  96.3290,  90.1055,\n",
       "         90.6743,  99.9403,  96.3032,  96.2353, 101.7316,  94.5354,  89.7315,\n",
       "        100.4026, 107.4982,  94.9391,  79.2226,  90.7846, 116.2544, 102.8190,\n",
       "         89.7297, 105.9113, 108.4499,  98.6653, 101.4647,  97.4391, 104.5971,\n",
       "         87.8270,  91.5518,  91.5225, 110.0245, 108.0249,  65.1582, 110.4814,\n",
       "         73.3625, 108.7003, 122.4663, 108.6290,  92.1609, 101.5715, 101.6257,\n",
       "         93.0205,  95.5324, 118.9624, 110.0960, 102.7125, 100.0084,  87.1869,\n",
       "         83.4391, 107.1418,  88.8637,  86.9163, 100.1747, 112.2011, 108.3856,\n",
       "        102.9352,  95.0222, 118.2802, 100.8204, 103.5107,  92.2817,  90.3504,\n",
       "         90.6402,  88.1039, 115.9626,  77.9112,  96.8033, 118.7572,  94.2179,\n",
       "         93.8315, 103.6742,  99.9768,  93.4668, 116.2743, 101.6314,  97.0954,\n",
       "         86.9796, 103.1917,  96.2959, 106.4880,  95.8064, 102.4925,  96.7175,\n",
       "        102.6904, 106.8572, 108.7042,  93.1053, 101.0147, 106.4102, 118.5943,\n",
       "         96.0836, 101.1606,  90.4403,  94.7998,  99.6209,  93.7919,  90.5315,\n",
       "         95.4868, 104.7084, 102.4305,  89.5228,  89.1585,  98.8296, 111.4254,\n",
       "         97.5914,  92.1808,  97.7812, 108.7723, 104.3255,  81.4371, 102.9575,\n",
       "        108.1200, 103.5488,  99.9634,  96.0614,  91.6368,  97.4993,  77.9326,\n",
       "         98.4844,  93.3142,  91.9125,  93.2229,  81.8993, 105.3156, 100.3459,\n",
       "         93.1178,  98.6804,  89.2244, 104.6976,  97.6651,  99.2491,  86.1647,\n",
       "        126.8554, 101.6900,  98.3244,  83.7798, 106.8937, 108.0433, 102.9473,\n",
       "        106.7892, 102.7756, 107.6776, 104.9484, 104.5470,  98.2638, 120.1035,\n",
       "        101.3712, 106.6181, 102.3639,  81.5291, 100.9626, 100.6134, 113.7589,\n",
       "        108.4952,  97.6711,  88.9885, 111.7299, 100.5339, 113.1555,  89.9328,\n",
       "        110.5578,  93.1530, 118.7184, 110.9901, 104.5832,  99.6042, 106.8818,\n",
       "        107.3597,  97.8310, 101.1936, 102.4669,  90.5244,  89.3738, 100.0025,\n",
       "         96.7426,  86.9981, 110.5506, 107.6853, 108.1390, 111.9886,  95.0158,\n",
       "        104.1230, 106.9394, 102.0746, 104.3533, 100.3182,  97.5289,  97.8220,\n",
       "         93.2440,  99.8603,  99.5899,  73.2994, 105.3270,  99.1945, 106.9753,\n",
       "         88.1384,  81.4213, 111.0402, 104.0787, 115.0536, 101.7687,  93.9062,\n",
       "        123.6747, 115.2209, 100.6433,  80.5319, 121.3570, 114.2799, 107.9997,\n",
       "        108.0293,  85.2179, 108.9995,  87.7193, 121.9374, 103.8190])"
      ]
     },
     "execution_count": 417,
     "metadata": {},
     "output_type": "execute_result"
    }
   ],
   "source": [
    "data"
   ]
  },
  {
   "cell_type": "code",
   "execution_count": 418,
   "metadata": {},
   "outputs": [
    {
     "data": {
      "text/plain": [
       "tensor(99.5178)"
      ]
     },
     "execution_count": 418,
     "metadata": {},
     "output_type": "execute_result"
    }
   ],
   "source": [
    "data.mean()"
   ]
  },
  {
   "cell_type": "code",
   "execution_count": 419,
   "metadata": {},
   "outputs": [
    {
     "data": {
      "text/plain": [
       "tensor(10.0662)"
      ]
     },
     "execution_count": 419,
     "metadata": {},
     "output_type": "execute_result"
    }
   ],
   "source": [
    "data.std()"
   ]
  },
  {
   "cell_type": "markdown",
   "metadata": {},
   "source": [
    "Create model. We use prior belief about input values, and condition on data"
   ]
  },
  {
   "cell_type": "code",
   "execution_count": 421,
   "metadata": {},
   "outputs": [],
   "source": [
    "def model(data):  # equivalent to conditioned_scale above\n",
    "    weight = pyro.sample(\"weight\", pyro.distributions.Normal(prior_mean, 1.))\n",
    "    pyro.sample(\"measurement\", pyro.distributions.Normal(weight, 1.), obs=data)"
   ]
  },
  {
   "cell_type": "markdown",
   "metadata": {},
   "source": [
    "Create guid function that has corresponging weight laten variable. We use one parameter mean with starting value 150, assuming std to be 10"
   ]
  },
  {
   "cell_type": "code",
   "execution_count": 422,
   "metadata": {},
   "outputs": [],
   "source": [
    "def guide(data):\n",
    "    mean = pyro.param(\"mean\", torch.tensor(150.), constraint=constraints.positive)\n",
    "    return pyro.sample(\"weight\", pyro.distributions.Normal(mean, 10))\n"
   ]
  },
  {
   "cell_type": "markdown",
   "metadata": {},
   "source": [
    "Create SVI with Adam optimizer, ELBO loss, our guide and model"
   ]
  },
  {
   "cell_type": "code",
   "execution_count": 427,
   "metadata": {},
   "outputs": [],
   "source": [
    "optim = Adam({\"lr\": 0.0003})\n",
    "svi = pyro.infer.SVI(model=model,\n",
    "                     guide=guide,\n",
    "                     optim=optim,\n",
    "                     loss=pyro.infer.Trace_ELBO(), num_samples=len(data))"
   ]
  },
  {
   "cell_type": "markdown",
   "metadata": {},
   "source": [
    "Train the model"
   ]
  },
  {
   "cell_type": "code",
   "execution_count": 428,
   "metadata": {},
   "outputs": [
    {
     "name": "stderr",
     "output_type": "stream",
     "text": [
      "100%|██████████| 6000/6000 [00:09<00:00, 646.01it/s]\n"
     ]
    }
   ],
   "source": [
    "pyro.clear_param_store()\n",
    "losses, mean  = [], []\n",
    "num_steps = 6000\n",
    "for t in tqdm(range(num_steps)):\n",
    "    losses.append(svi.step(data))\n",
    "    mean.append(pyro.param(\"mean\"))\n"
   ]
  },
  {
   "cell_type": "markdown",
   "metadata": {},
   "source": [
    "Plot loss"
   ]
  },
  {
   "cell_type": "code",
   "execution_count": 429,
   "metadata": {},
   "outputs": [
    {
     "name": "stdout",
     "output_type": "stream",
     "text": [
      "learned mean =  tensor(99.7894, grad_fn=<AddBackward0>)\n"
     ]
    },
    {
     "data": {
      "image/png": "[encoded data removed]",
      "text/plain": [
       "<Figure size 432x288 with 1 Axes>"
      ]
     },
     "metadata": {
      "needs_background": "light"
     },
     "output_type": "display_data"
    }
   ],
   "source": [
    "plt.plot(losses)\n",
    "plt.title(\"evidence lower bound (ELBO)\")\n",
    "plt.xlabel(\"step\")\n",
    "plt.ylabel(\"loss\");\n",
    "print('learned mean = ',pyro.param(\"mean\"))"
   ]
  },
  {
   "cell_type": "code",
   "execution_count": 430,
   "metadata": {},
   "outputs": [
    {
     "data": {
      "text/plain": [
       "Text(0,0.5,'mean')"
      ]
     },
     "execution_count": 430,
     "metadata": {},
     "output_type": "execute_result"
    },
    {
     "data": {
      "image/png": "[encoded data removed]",
      "text/plain": [
       "<Figure size 432x288 with 1 Axes>"
      ]
     },
     "metadata": {
      "needs_background": "light"
     },
     "output_type": "display_data"
    }
   ],
   "source": [
    "plt.subplot(1,2,1)\n",
    "plt.plot([0,num_steps],[data.mean(),data.mean()], 'k:')\n",
    "plt.plot(mean)\n",
    "plt.ylabel('mean')"
   ]
  },
  {
   "cell_type": "markdown",
   "metadata": {},
   "source": [
    "## Task"
   ]
  },
  {
   "cell_type": "code",
   "execution_count": 6,
   "metadata": {},
   "outputs": [
    {
     "data": {
      "image/png": "[encoded data removed]",
      "text/plain": [
       "<Figure size 432x288 with 1 Axes>"
      ]
     },
     "metadata": {
      "needs_background": "light"
     },
     "output_type": "display_data"
    }
   ],
   "source": [
    "# Select one attriubte from one of the datasets (Task List 3), \n",
    "# that has distribution similar to Normal (or any known to you distribution)\n",
    "yeast = pd.read_csv('yeast.csv', header=None)\n",
    "yeast.columns = [\"seq_name\", \"mcg\", \"gvh\", \"alm\", \"mit\", \"erl\", \"pox\", \"vac\", \"nuc\", \"class\"]\n",
    "\n",
    "# column to use - mcg\n",
    "yeast.hist(column='mcg', bins=30)\n",
    "data = torch.tensor(yeast.mcg)"
   ]
  },
  {
   "cell_type": "code",
   "execution_count": 7,
   "metadata": {},
   "outputs": [
    {
     "data": {
      "text/plain": [
       "tensor([0.5800, 0.4300, 0.6400,  ..., 0.6700, 0.4300, 0.6500])"
      ]
     },
     "execution_count": 7,
     "metadata": {},
     "output_type": "execute_result"
    }
   ],
   "source": [
    "data"
   ]
  },
  {
   "cell_type": "code",
   "execution_count": 22,
   "metadata": {},
   "outputs": [
    {
     "name": "stdout",
     "output_type": "stream",
     "text": [
      "prior mean:  0.4\n",
      "real mean:  tensor(0.5001)\n",
      "real std:  tensor(0.1373)\n"
     ]
    }
   ],
   "source": [
    "pyro.enable_validation(True)\n",
    "# Asume that you have some prior knowledge about parameters of that distribution\n",
    "prior_mean = 0.4\n",
    "print(\"prior mean: \", prior_mean)\n",
    "print(\"real mean: \", data.mean())\n",
    "print(\"real std: \", data.std())"
   ]
  },
  {
   "cell_type": "code",
   "execution_count": 16,
   "metadata": {},
   "outputs": [],
   "source": [
    "# Create model, and apropriate guide function\n",
    "def model(data):  # approximate prior function\n",
    "    with pyro.plate(\"map\", len(data)):\n",
    "        weight = pyro.sample(\"weight\", pyro.distributions.Normal(prior_mean, 1.))\n",
    "        return pyro.sample(\"measurement\", pyro.distributions.Normal(weight, 1.), obs=data)"
   ]
  },
  {
   "cell_type": "code",
   "execution_count": 17,
   "metadata": {},
   "outputs": [],
   "source": [
    "def guide(data):  # approximate posterior distribution\n",
    "    # below line just saves \"mean\" in param store with value 1 and constraint that it is positive\n",
    "    mean = pyro.param(\"mean\", torch.tensor(1.), constraint=constraints.positive)\n",
    "    # assume std = 0.14\n",
    "    with pyro.plate(\"map\", len(data)):\n",
    "        return pyro.sample(\"weight\", pyro.distributions.Normal(mean, 0.14))"
   ]
  },
  {
   "cell_type": "code",
   "execution_count": 23,
   "metadata": {},
   "outputs": [],
   "source": [
    "# Learn parameter of your distribution, assume that you know STD or mean\n",
    "# lr - learning rate\n",
    "optim = Adam({\"lr\": 0.0003})\n",
    "svi = pyro.infer.SVI(model=model,\n",
    "                     guide=guide,\n",
    "                     optim=optim,\n",
    "                     loss=pyro.infer.Trace_ELBO(), num_samples=len(data))\n",
    "\n",
    "# ELBO -> the difference between the distribution of a latent variable and the distribution of the respective observed variable"
   ]
  },
  {
   "cell_type": "code",
   "execution_count": 24,
   "metadata": {},
   "outputs": [
    {
     "name": "stderr",
     "output_type": "stream",
     "text": [
      "100%|███████████████████████████████████| 10000/10000 [00:36<00:00, 275.77it/s]\n"
     ]
    },
    {
     "name": "stdout",
     "output_type": "stream",
     "text": [
      "learned mean =  tensor(0.4503, grad_fn=<AddBackward0>)\n"
     ]
    }
   ],
   "source": [
    "pyro.clear_param_store()\n",
    "losses, mean  = [], []\n",
    "num_steps = 10000\n",
    "for t in tqdm(range(num_steps)):\n",
    "    # takes one gradient step and returns estimate of loss\n",
    "    losses.append(svi.step(data))\n",
    "    mean.append(pyro.param(\"mean\"))\n",
    "    \n",
    "print('learned mean = ', mean[-1])"
   ]
  },
  {
   "cell_type": "code",
   "execution_count": 25,
   "metadata": {},
   "outputs": [
    {
     "name": "stdout",
     "output_type": "stream",
     "text": [
      "learned mean =  tensor(0.4503, grad_fn=<AddBackward0>)\n"
     ]
    },
    {
     "data": {
      "image/png": "[encoded data removed]",
      "text/plain": [
       "<Figure size 432x288 with 1 Axes>"
      ]
     },
     "metadata": {
      "needs_background": "light"
     },
     "output_type": "display_data"
    }
   ],
   "source": [
    "plt.plot(losses)\n",
    "plt.title(\"evidence lower bound (ELBO)\")\n",
    "plt.xlabel(\"step\")\n",
    "plt.ylabel(\"loss\");\n",
    "print('learned mean = ',pyro.param(\"mean\"))"
   ]
  },
  {
   "cell_type": "code",
   "execution_count": 26,
   "metadata": {},
   "outputs": [
    {
     "data": {
      "text/plain": [
       "Text(0, 0.5, 'mean')"
      ]
     },
     "execution_count": 26,
     "metadata": {},
     "output_type": "execute_result"
    },
    {
     "data": {
      "image/png": "[encoded data removed]",
      "text/plain": [
       "<Figure size 432x288 with 1 Axes>"
      ]
     },
     "metadata": {
      "needs_background": "light"
     },
     "output_type": "display_data"
    }
   ],
   "source": [
    "plt.subplot(1,2,1)\n",
    "plt.plot([0,num_steps],[data.mean(),data.mean()], 'k:')\n",
    "plt.plot(mean)\n",
    "plt.ylabel('mean')"
   ]
  },
  {
   "cell_type": "code",
   "execution_count": null,
   "metadata": {},
   "outputs": [],
   "source": []
  }
 ],
 "metadata": {
  "kernelspec": {
   "display_name": "Python 3",
   "language": "python",
   "name": "python3"
  },
  "language_info": {
   "codemirror_mode": {
    "name": "ipython",
    "version": 3
   },
   "file_extension": ".py",
   "mimetype": "text/x-python",
   "name": "python",
   "nbconvert_exporter": "python",
   "pygments_lexer": "ipython3",
   "version": "3.6.8"
  }
 },
 "nbformat": 4,
 "nbformat_minor": 2
}
