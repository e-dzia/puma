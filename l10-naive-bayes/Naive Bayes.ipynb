{
 "cells": [
  {
   "cell_type": "code",
   "execution_count": 123,
   "metadata": {},
   "outputs": [],
   "source": [
    "%matplotlib inline\n",
    "import pyro\n",
    "import torch\n",
    "import numpy as np\n",
    "import matplotlib.pyplot as plt\n",
    "import pyro.optim as optim\n",
    "import pyro.distributions as dist\n",
    "from torch.distributions import constraints\n",
    "from tqdm import tqdm_notebook as tqdm\n",
    "import seaborn as sns\n",
    "from matplotlib import animation, rc\n",
    "from IPython.display import HTML\n",
    "import torch.nn as nn\n",
    "from functools import partial\n",
    "import pandas as pd\n",
    "from pyro.contrib.autoguide import AutoDiagonalNormal, AutoMultivariateNormal\n",
    "from pyro.infer import EmpiricalMarginal, SVI, Trace_ELBO, TracePredictive\n",
    "from pyro.optim import Adam\n",
    "import operator\n",
    "from sklearn.model_selection import train_test_split\n",
    "from sklearn import model_selection, metrics"
   ]
  },
  {
   "cell_type": "code",
   "execution_count": 2,
   "metadata": {},
   "outputs": [],
   "source": [
    "pyro.set_rng_seed(1)\n",
    "pyro.enable_validation(True)"
   ]
  },
  {
   "cell_type": "code",
   "execution_count": 189,
   "metadata": {},
   "outputs": [],
   "source": [
    "yeast = pd.read_csv('yeast.csv', header=None)\n",
    "yeast.columns = [\"seq_name\", \"mcg\", \"gvh\", \"alm\", \"mit\", \"erl\", \"pox\", \"vac\", \"nuc\", \"classname\"]\n",
    "abalone = pd.read_csv('abalone.csv', header=None)\n",
    "abalone.columns = [\"sex\", \"length\", \"diameter\", \"height\", \"whole_height\", \"shucked_weight\", \"viscera_weight\", \"shell_weight\", \n",
    "                   \"classname\"]\n",
    "iris = pd.read_csv('iris.csv', header=None)\n",
    "iris.columns = [\"petalLength\", \"petalWidth\", \"sepalLength\", \"sepalWidth\", \"classname\"]\n",
    "glass = pd.read_csv('glass.csv', header=None)\n",
    "glass.columns = [\"id\", \"RI\", \"Na\", \"Mg\", \"Al\", \"Si\", \"K\", \"Ca\", \"Ba\", \"Fe\", \"classname\"]\n",
    "glass = glass.set_index('id')\n",
    "pima = pd.read_csv('pima-diabetes.csv', header=None)\n",
    "pima.columns = [\"NumTimesPrg\", \"PlGlcConc\", \"BloodP\", \"SkinThick\", \"TwoHourSerIns\", \"BMI\", \"DiPedFunc\",\"Age\", \"classname\"]\n",
    "wine = pd.read_csv('wine.csv', header=None)\n",
    "wine.columns = [\"classname\", \"Alcohol\", \"MalicAcid\", \"Ash\", \"AlcalinityOfAsh\", \"Magnesium\", \"TotalPhenols\",\"Flavanoids\", \n",
    "                \"NonflavanoidPhenols\", \"Proanthocyanins\", \"ColorIntensivity\", \"Hue\",\"OD280/OD315\", \"Proline\"]\n",
    "\n",
    "df = wine\n",
    "num_columns = df.shape[1]\n",
    "num_rows = df.shape[0]\n",
    "#data = torch.tensor(df.values).float()\n",
    "data = df\n",
    "\n",
    "#print(data)"
   ]
  },
  {
   "cell_type": "code",
   "execution_count": 190,
   "metadata": {},
   "outputs": [],
   "source": [
    "# sns.pairplot(data, kind=\"scatter\", diag_kind=\"hist\", hue=\"class\")"
   ]
  },
  {
   "cell_type": "code",
   "execution_count": 199,
   "metadata": {},
   "outputs": [],
   "source": [
    "def model(data):\n",
    "    data = torch.tensor(data.values).float()\n",
    "    \n",
    "    mean_prior = data[0]\n",
    "    std_prior = torch.ones(num_columns)\n",
    "#     noise_std = torch.ones(num_columns)\n",
    "    \n",
    "    prior = pyro.distributions.Normal(loc=mean_prior, scale=std_prior).independent(1)\n",
    "    weight = pyro.sample(\"weight\", prior)\n",
    "    \n",
    "    with pyro.plate(\"map\", len(data)):\n",
    "        #sample = pyro.sample(\"obs\", pyro.distributions.Normal(weight, noise_std), obs=data)\n",
    "        sample = pyro.sample(\"obs\", prior, obs=data)\n",
    "        return sample\n",
    "\n",
    "\n",
    "def guide(data):\n",
    "    mean = pyro.param(\"mean\", torch.ones(1, num_columns)*0)\n",
    "    std = pyro.param(\"std\", torch.ones(1, num_columns)*10, constraint=constraints.positive)\n",
    "    \n",
    "    dists = pyro.distributions.Normal(loc=mean, scale=std).independent(1)\n",
    "    sample = pyro.sample(\"weight\", dists)\n",
    "    return sample"
   ]
  },
  {
   "cell_type": "code",
   "execution_count": 206,
   "metadata": {},
   "outputs": [
    {
     "data": {
      "application/vnd.jupyter.widget-view+json": {
       "model_id": "4b42301692374a57935fa08f83d8d6fd",
       "version_major": 2,
       "version_minor": 0
      },
      "text/plain": [
       "HBox(children=(IntProgress(value=0, max=20000), HTML(value='')))"
      ]
     },
     "metadata": {},
     "output_type": "display_data"
    },
    {
     "name": "stdout",
     "output_type": "stream",
     "text": [
      "\n",
      "Wall time: 1min 17s\n"
     ]
    }
   ],
   "source": [
    "%%time\n",
    "def train(data, num_steps=5000):\n",
    "    pyro.clear_param_store()\n",
    "    \n",
    "    optim = Adam({\"lr\": 0.07})\n",
    "    svi = pyro.infer.SVI(model=model,\n",
    "                         guide=guide,\n",
    "                         optim=optim,\n",
    "                         loss=pyro.infer.Trace_ELBO(), num_samples=len(data))\n",
    "\n",
    "    losses = []\n",
    "    for t in tqdm(range(num_steps)):\n",
    "        losses.append(svi.step(data))\n",
    "    return pyro.param(\"mean\"), pyro.param(\"std\"), losses\n",
    "\n",
    "_, _, losses = train(data, 20000)"
   ]
  },
  {
   "cell_type": "code",
   "execution_count": 207,
   "metadata": {},
   "outputs": [
    {
     "name": "stdout",
     "output_type": "stream",
     "text": [
      "Index(['classname', 'Alcohol', 'MalicAcid', 'Ash', 'AlcalinityOfAsh',\n",
      "       'Magnesium', 'TotalPhenols', 'Flavanoids', 'NonflavanoidPhenols',\n",
      "       'Proanthocyanins', 'ColorIntensivity', 'Hue', 'OD280/OD315', 'Proline'],\n",
      "      dtype='object')\n",
      "[1.9382022471910112, 13.00061797752809, 2.3363483146067416, 2.3665168539325845, 19.49494382022472, 99.74157303370787, 2.295112359550562, 2.0292696629213487, 0.3618539325842696, 1.5908988764044945, 5.058089882022472, 0.9574494382022471, 2.6116853932584267, 746.8932584269663]\n",
      "[0.7728548591122252, 0.8095429145285168, 1.1140036269797893, 0.27357229442643255, 3.3301697576582128, 14.242307673359806, 0.6240905641965369, 0.996048950379233, 0.12410325988364795, 0.5707488486199379, 2.3117646609525573, 0.22792860656507252, 0.7079932646716005, 314.0216568419878]\n",
      "\n",
      "learned mean =  [0.9088855385780334, 14.673995971679688, 1.7297182083129883, 2.487793207168579, 15.520822525024414, 126.75790405273438, 2.7235190868377686, 3.0372507572174072, 0.21620814502239227, 2.222470998764038, 5.576832294464111, 0.8888041377067566, 3.6625938415527344, 1064.1282958984375]\n",
      "learned std =  [0.7991595268249512, 1.1783462762832642, 0.9366453289985657, 1.0743454694747925, 0.9463039040565491, 0.9685711860656738, 1.0897843837738037, 0.9094976186752319, 0.9390409588813782, 0.8922815918922424, 0.835404634475708, 1.0570881366729736, 0.6681568026542664, 1.204764485359192]\n",
      "\n",
      "[-1.0293167086129777, 1.673377994151597, -0.6066301062937534, 0.12127635323599462, -3.9741212952003053, 27.01633101902651, 0.42840672728720675, 1.0079810942960585, -0.14564578756187735, 0.6315721223595436, 0.5187424124416395, -0.06864530049549056, 1.0509084482943076, 317.2350374714712] \n",
      " [0.026304667712725993, 0.36880336175474737, -0.1773582979812236, 0.80077317504836, -2.3838658536016637, -13.273736487294132, 0.46569381957726685, -0.08655133170400109, 0.8149376989977302, 0.3215327432723045, -1.4763600264768493, 0.8291595301079011, -0.03983646201733415, -312.8168923566286]\n"
     ]
    },
    {
     "data": {
      "image/png": "[encoded data removed]",
      "text/plain": [
       "<Figure size 432x288 with 1 Axes>"
      ]
     },
     "metadata": {
      "needs_background": "light"
     },
     "output_type": "display_data"
    }
   ],
   "source": [
    "def plot_loss(losses, learned_mean, learned_std, print_info=False):\n",
    "    columns_data = [df[i] for i in df.columns]\n",
    "    \n",
    "    true_mean = [np.mean(x) for x in columns_data]\n",
    "    true_std = [np.std(x) for x in columns_data]\n",
    "    if (print_info):\n",
    "        print(df.columns)\n",
    "        print(\"{}\\n{}\".format(true_mean, true_std))\n",
    "        print()\n",
    "\n",
    "    plt.plot(losses)\n",
    "    plt.title(\"evidence lower bound (ELBO)\")\n",
    "    plt.xlabel(\"step\")\n",
    "    plt.ylabel(\"loss\");\n",
    "    if (print_info):\n",
    "        print('learned mean = ', learned_mean)\n",
    "        print('learned std = ', learned_std)\n",
    "        print()\n",
    "\n",
    "    diff_mean = [learned_mean[i] - true_mean[i] for i in range(len(true_mean))]\n",
    "    diff_std = [learned_std[i] - true_std[i] for i in range(len(true_std))]\n",
    "    if (print_info):\n",
    "        print(diff_mean, \"\\n\", diff_std)\n",
    "    \n",
    "\n",
    "learned_mean = pyro.param(\"mean\").tolist()[0]\n",
    "learned_std = pyro.param(\"std\").tolist()[0]\n",
    "\n",
    "plot_loss(losses, learned_mean, learned_std, print_info=True)"
   ]
  },
  {
   "cell_type": "code",
   "execution_count": 173,
   "metadata": {},
   "outputs": [],
   "source": [
    "def extract_labels(dataset):\n",
    "    # extract labels\n",
    "    dataset_labels = dataset[\"classname\"].copy()\n",
    "    dataset = dataset.drop(\"classname\", axis=1)\n",
    "\n",
    "    return dataset, dataset_labels\n",
    "\n",
    "\n",
    "def split_data(dataset, test_size=0.2):\n",
    "    # split into train and test sets\n",
    "    train_set, test_set = train_test_split(dataset, test_size=test_size, random_state=42, stratify=dataset['classname'])\n",
    "\n",
    "    # extract labels\n",
    "    train_set_labels = train_set[\"classname\"].copy()\n",
    "    train_set = train_set.drop(\"classname\", axis=1)\n",
    "\n",
    "    test_set_labels = test_set[\"classname\"].copy()\n",
    "    test_set = test_set.drop(\"classname\", axis=1)\n",
    "\n",
    "    return train_set, train_set_labels, test_set, test_set_labels\n",
    "\n",
    "\n",
    "def evaluate(labels_true, labels_predicted):\n",
    "    labels_true = labels_true.values.tolist()\n",
    "    accuracy = metrics.accuracy_score(y_true=labels_true, y_pred=labels_predicted)\n",
    "    precision = metrics.precision_score(y_true=labels_true, y_pred=labels_predicted, average='macro')\n",
    "    recall = metrics.recall_score(y_true=labels_true, y_pred=labels_predicted, average='macro')\n",
    "    f1 = metrics.f1_score(y_true=labels_true, y_pred=labels_predicted, average='macro')\n",
    "\n",
    "    return accuracy, precision, recall, f1\n",
    "\n",
    "\n",
    "def test_classifier(train, train_labels, test, test_labels, model):\n",
    "    model.fit(train, train_labels)\n",
    "    labels_predicted = model.predict(test)\n",
    "    labels_true = test_labels\n",
    "    accuracy, precision, recall, f1 = evaluate(labels_true, labels_predicted)\n",
    "    return accuracy, precision, recall, f1"
   ]
  },
  {
   "cell_type": "code",
   "execution_count": 182,
   "metadata": {},
   "outputs": [],
   "source": [
    "class NaiveBayesClassifier:\n",
    "    def __init__(self):\n",
    "        self.mean_for_classes = {}\n",
    "        self.std_for_classes = {}\n",
    "        self.classes_probs = {}\n",
    "    \n",
    "    def fit(self, X, y):\n",
    "        self.classes = y.unique()\n",
    "        \n",
    "        for classname in self.classes:\n",
    "            current_data = X[y==classname]\n",
    "            self.classes_probs[classname] = len(current_data)\n",
    "            # TODO: priors - pierwsze elementy z każdej kolumny??\n",
    "            mean, std, _ = train(current_data, num_steps=10000)\n",
    "            self.mean_for_classes[classname] = mean[0]\n",
    "            self.std_for_classes[classname] = std[0]\n",
    "            # print(self.classes_probs[classname], self.mean_for_classes[classname], self.std_for_classes[classname])\n",
    "            \n",
    "    \n",
    "    def predict(self, X):\n",
    "        probs = {}\n",
    "        predicted = []\n",
    "        \n",
    "        for row in X.values:\n",
    "            for classname in self.classes:\n",
    "                p = self.classes_probs[classname]\n",
    "                for i, element in enumerate(row):\n",
    "                    p *= (1/(np.sqrt(2*np.pi*self.std_for_classes[classname][i].detach().numpy() ** 2))) \\\n",
    "                            * np.e ** \\\n",
    "                            (-((element-self.mean_for_classes[classname][i].detach().numpy()) ** 2) \\\n",
    "                             /(2*self.std_for_classes[classname][i].detach().numpy() ** 2))\n",
    "                    # print(p)\n",
    "                probs[classname] = p\n",
    "            chosen_class = max(probs.items(), key=operator.itemgetter(1))[0]\n",
    "            predicted.append(chosen_class)\n",
    "        \n",
    "        return predicted\n"
   ]
  },
  {
   "cell_type": "code",
   "execution_count": 183,
   "metadata": {},
   "outputs": [],
   "source": [
    "def classify(dataset):\n",
    "    train_set, train_labels, test_set, test_labels = split_data(dataset)\n",
    "    model = NaiveBayesClassifier()\n",
    "    accuracy, precision, recall, f1 = test_classifier(train_set, train_labels, test_set, test_labels, model)\n",
    "    return accuracy, precision, recall, f1"
   ]
  },
  {
   "cell_type": "code",
   "execution_count": 184,
   "metadata": {},
   "outputs": [],
   "source": [
    "# bayes = NaiveBayesClassifier()\n",
    "# data_labels = data[\"classname\"].copy()\n",
    "# data_no_labels = data.drop(\"classname\", axis=1)\n",
    "# num_columns = data_no_labels.shape[1]\n",
    "# bayes.fit(data_no_labels, data_labels)"
   ]
  },
  {
   "cell_type": "code",
   "execution_count": 186,
   "metadata": {},
   "outputs": [
    {
     "data": {
      "application/vnd.jupyter.widget-view+json": {
       "model_id": "89513d9b016248bf9418c2632f861345",
       "version_major": 2,
       "version_minor": 0
      },
      "text/plain": [
       "HBox(children=(IntProgress(value=0, max=10000), HTML(value='')))"
      ]
     },
     "metadata": {},
     "output_type": "display_data"
    },
    {
     "name": "stdout",
     "output_type": "stream",
     "text": [
      "\n"
     ]
    },
    {
     "data": {
      "application/vnd.jupyter.widget-view+json": {
       "model_id": "120b58305c944b4388d1e85d77fdf9ca",
       "version_major": 2,
       "version_minor": 0
      },
      "text/plain": [
       "HBox(children=(IntProgress(value=0, max=10000), HTML(value='')))"
      ]
     },
     "metadata": {},
     "output_type": "display_data"
    },
    {
     "name": "stdout",
     "output_type": "stream",
     "text": [
      "\n"
     ]
    },
    {
     "data": {
      "application/vnd.jupyter.widget-view+json": {
       "model_id": "a48473f428444b81b9a9b7164604f0ee",
       "version_major": 2,
       "version_minor": 0
      },
      "text/plain": [
       "HBox(children=(IntProgress(value=0, max=10000), HTML(value='')))"
      ]
     },
     "metadata": {},
     "output_type": "display_data"
    },
    {
     "name": "stdout",
     "output_type": "stream",
     "text": [
      "\n"
     ]
    },
    {
     "name": "stderr",
     "output_type": "stream",
     "text": [
      "d:\\programowanie\\python\\machine-learning-tests\\venv\\lib\\site-packages\\sklearn\\metrics\\classification.py:1143: UndefinedMetricWarning: Precision is ill-defined and being set to 0.0 in labels with no predicted samples.\n",
      "  'precision', 'predicted', average, warn_for)\n",
      "d:\\programowanie\\python\\machine-learning-tests\\venv\\lib\\site-packages\\sklearn\\metrics\\classification.py:1143: UndefinedMetricWarning: F-score is ill-defined and being set to 0.0 in labels with no predicted samples.\n",
      "  'precision', 'predicted', average, warn_for)\n"
     ]
    },
    {
     "data": {
      "text/plain": [
       "(0.5, 0.34055727554179566, 0.5333333333333333, 0.41379310344827586)"
      ]
     },
     "execution_count": 186,
     "metadata": {},
     "output_type": "execute_result"
    }
   ],
   "source": [
    "classify(data)"
   ]
  },
  {
   "cell_type": "code",
   "execution_count": null,
   "metadata": {},
   "outputs": [],
   "source": []
  }
 ],
 "metadata": {
  "kernelspec": {
   "display_name": "Python 3",
   "language": "python",
   "name": "python3"
  },
  "language_info": {
   "codemirror_mode": {
    "name": "ipython",
    "version": 3
   },
   "file_extension": ".py",
   "mimetype": "text/x-python",
   "name": "python",
   "nbconvert_exporter": "python",
   "pygments_lexer": "ipython3",
   "version": "3.6.4"
  }
 },
 "nbformat": 4,
 "nbformat_minor": 2
}
